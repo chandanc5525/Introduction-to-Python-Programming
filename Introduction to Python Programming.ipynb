{
 "cells": [
  {
   "cell_type": "markdown",
   "id": "970f8316",
   "metadata": {},
   "source": [
    "# Introduction to Python Programming"
   ]
  },
  {
   "cell_type": "markdown",
   "id": "b03ec67b",
   "metadata": {},
   "source": [
    "Python is a popular, high-level programming language known for its simplicity, readability, and flexibility. \n",
    "It is a general-purpose language, which means it can be used to build almost any type of software, from desktop applications to web applications and scientific applications.\n",
    "\n",
    "Here are some of the key features of Python:\n",
    "\n",
    "- It is an interpreted language, which means that it does not need to be compiled before it is run. This makes it easy to test and debug code.\n",
    "\n",
    "- It has a simple syntax, which makes it easy to learn and read.\n",
    "\n",
    "- It is an object-oriented language, which means that it allows users to define their own objects and the methods associated with them.\n",
    "\n",
    "- It is dynamically typed, which means that you don't need to specify the data type of a variable when you declare it. The interpreter will determine the data type at runtime.\n",
    "\n",
    "- It has a large standard library, which means that it comes with a lot of pre-built functions and classes that can be used to perform a wide range of tasks."
   ]
  },
  {
   "cell_type": "markdown",
   "id": "0c936d36",
   "metadata": {},
   "source": [
    "# Types of Errors in Python Programming"
   ]
  },
  {
   "cell_type": "markdown",
   "id": "10ea257a",
   "metadata": {},
   "source": [
    "There are three types of errors that can occur in Python:\n",
    "\n",
    "- Syntax errors: These occur when the Python interpreter encounters invalid syntax in your code. For example, if you forget to close a parenthesis or use the wrong keyword, the interpreter will raise a syntax error.\n",
    "\n",
    "- Exceptions: These occur when something goes wrong while your code is running. For example, if you try to divide by zero, the interpreter will raise a ZeroDivisionError exception.\n",
    "\n",
    "- Semantic errors: These occur when your code is syntactically correct, but it doesn't do what you intended it to do. For example, if you forget to update a variable, your code will run without errors, but it will produce the wrong results.\n",
    "\n",
    "It's important to handle errors and exceptions properly in your code so that it can run smoothly and avoid crashing. In Python, you can use try-except blocks to catch and handle exceptions, or you can use assertions to check for certain conditions at runtime."
   ]
  },
  {
   "cell_type": "markdown",
   "id": "54efe025",
   "metadata": {},
   "source": [
    "# Create a Variable"
   ]
  },
  {
   "cell_type": "code",
   "execution_count": 1,
   "id": "fe62ed21",
   "metadata": {},
   "outputs": [],
   "source": [
    "# Single Variable Assignment"
   ]
  },
  {
   "cell_type": "code",
   "execution_count": 2,
   "id": "79265550",
   "metadata": {},
   "outputs": [
    {
     "name": "stdout",
     "output_type": "stream",
     "text": [
      "<class 'int'>\n",
      "<class 'float'>\n",
      "<class 'str'>\n"
     ]
    }
   ],
   "source": [
    "a = 23   # assignment of variable is always from left to right.\n",
    "b = 3.14212\n",
    "str = 'Python Programming'\n",
    "print(type(a))\n",
    "print(type(b))\n",
    "print(type(str))"
   ]
  },
  {
   "cell_type": "code",
   "execution_count": 3,
   "id": "5510886b",
   "metadata": {},
   "outputs": [],
   "source": [
    "# Multi Variable Assignment"
   ]
  },
  {
   "cell_type": "code",
   "execution_count": 4,
   "id": "d64c880a",
   "metadata": {},
   "outputs": [
    {
     "name": "stdout",
     "output_type": "stream",
     "text": [
      "100\n",
      "200\n",
      "300\n"
     ]
    }
   ],
   "source": [
    "a,b,c = 100,200,300\n",
    "print(a)     # print function display the ouput \n",
    "print(b)\n",
    "print(c)"
   ]
  },
  {
   "cell_type": "markdown",
   "id": "f1eaab5a",
   "metadata": {},
   "source": [
    "# Rules for Valid Variable Names"
   ]
  },
  {
   "cell_type": "markdown",
   "id": "437dcda3",
   "metadata": {},
   "source": [
    "There are a few rules that you need to follow when naming a variable:\n",
    "\n",
    "- Variable names can only contain letters, numbers, and underscores. They can't start with a number. For example, my_variable, x1, and var_2 are all valid variable names, but 1x and my-variable are not.\n",
    "\n",
    "- Variable names are case-sensitive. This means that myVariable is not the same as myvariable.\n",
    "\n",
    "- Variable names should be descriptive, but not too long. A good variable name should give you an idea of what the variable is used for, without being too verbose.\n",
    "\n",
    "- Python has a number of reserved words that cannot be used as variable names. These include keywords like for, while, if, def, and class.\n",
    "\n",
    "It's also a good idea to follow some naming conventions when choosing variable names. For example, many Python developers use lowercase letters and underscores to separate words in a variable name (e.g., my_variable). This is known as \"snake case\" naming. Other common conventions include \"camel case\" (e.g., myVariable) and \"Pascal case\" (e.g., MyVariable)."
   ]
  },
  {
   "cell_type": "markdown",
   "id": "19722971",
   "metadata": {},
   "source": [
    "# Data types in Python Programming"
   ]
  },
  {
   "cell_type": "markdown",
   "id": "6e5f523a",
   "metadata": {},
   "source": [
    "- Number: \n",
    "Python has several types of numeric data types, including int (integers), float (floating-point numbers), and complex (complex numbers).\n",
    "\n",
    "- String: \n",
    "A string is a sequence of characters, such as a word or a phrase. You can use single or double quotes to define a string in Python.\n",
    "\n",
    "- List: \n",
    "A list is an ordered collection of items. You can define a list by enclosing a comma-separated sequence of values in square brackets. Lists are mutable, which means you can change the items in a list after it is created.\n",
    "\n",
    "- Tuple: \n",
    "A tuple is similar to a list, but it is immutable, which means you cannot modify the items in a tuple once it is created. You can define a tuple by enclosing a comma-separated sequence of values in parentheses.\n",
    "\n",
    "- Set: \n",
    "A set is an unordered collection of unique items. You can define a set by enclosing a comma-separated sequence of values in curly braces. Sets are useful for storing data when you don't need to preserve the order of the items or when you want to eliminate duplicates.\n",
    "\n",
    "- Dictionary: \n",
    "A dictionary is a collection of key-value pairs. You can define a dictionary by enclosing a comma-separated sequence of key-value pairs in curly braces. The keys in a dictionary must be unique and are used to look up the corresponding values."
   ]
  },
  {
   "cell_type": "markdown",
   "id": "77072bc9",
   "metadata": {},
   "source": [
    "## String:-"
   ]
  },
  {
   "cell_type": "code",
   "execution_count": 5,
   "id": "ed4d39b2",
   "metadata": {},
   "outputs": [
    {
     "name": "stdout",
     "output_type": "stream",
     "text": [
      "<class 'str'>\n",
      "<class 'str'>\n",
      "<class 'str'>\n"
     ]
    }
   ],
   "source": [
    "str1 = 'Python Programming' # anythong quoted either in single quote or double quotes are treated as string.\n",
    "str2 = \"Python World\"\n",
    "str3 = \"123456\"\n",
    "\n",
    "# Check the Datatype \n",
    "\n",
    "print(type(str1))         # type() function is used to check the data type of the assigned variable.\n",
    "print(type(str2))\n",
    "print(type(str3))"
   ]
  },
  {
   "cell_type": "code",
   "execution_count": null,
   "id": "bc1ddcf0",
   "metadata": {},
   "outputs": [],
   "source": []
  },
  {
   "cell_type": "markdown",
   "id": "8e3ca723",
   "metadata": {},
   "source": [
    "## List :-"
   ]
  },
  {
   "cell_type": "code",
   "execution_count": 6,
   "id": "782f14ee",
   "metadata": {},
   "outputs": [
    {
     "name": "stdout",
     "output_type": "stream",
     "text": [
      "200\n",
      "233.465\n",
      "20\n"
     ]
    }
   ],
   "source": [
    "lst = [100,200,300]  \n",
    "lst1 = [1000,'India',233.465]  # List also contains values of different kind i.e. int,float,string etc..\n",
    "lst2 = [[10,20,30],40,50,60]   # We can also define list in list.\n",
    "\n",
    "# Concept of Indexing \n",
    "\n",
    "print(lst[1])\n",
    "print(lst1[2])\n",
    "print(lst2[0][1])"
   ]
  },
  {
   "cell_type": "code",
   "execution_count": 7,
   "id": "f63d3459",
   "metadata": {},
   "outputs": [
    {
     "name": "stdout",
     "output_type": "stream",
     "text": [
      "[100, 200, 300, 600]\n"
     ]
    }
   ],
   "source": [
    "lst.append(600)  # append function will add the value to the list at last location.\n",
    "print(lst)"
   ]
  },
  {
   "cell_type": "code",
   "execution_count": 8,
   "id": "ce96e069",
   "metadata": {},
   "outputs": [
    {
     "data": {
      "text/plain": [
       "0"
      ]
     },
     "execution_count": 8,
     "metadata": {},
     "output_type": "execute_result"
    }
   ],
   "source": [
    "lst.count(400)   # count function will calcualte occurance of 400 in a lst variable."
   ]
  },
  {
   "cell_type": "code",
   "execution_count": 9,
   "id": "41fd719e",
   "metadata": {},
   "outputs": [],
   "source": [
    "lst.insert(0,0)   # 0 value is added at 0 index location in a lst varibale."
   ]
  },
  {
   "cell_type": "code",
   "execution_count": 10,
   "id": "bf0eaa22",
   "metadata": {},
   "outputs": [
    {
     "data": {
      "text/plain": [
       "[0, 100, 200, 300, 600]"
      ]
     },
     "execution_count": 10,
     "metadata": {},
     "output_type": "execute_result"
    }
   ],
   "source": [
    "lst"
   ]
  },
  {
   "cell_type": "markdown",
   "id": "f3f90083",
   "metadata": {},
   "source": [
    "## Tuple:- "
   ]
  },
  {
   "cell_type": "code",
   "execution_count": 11,
   "id": "0b6dc28e",
   "metadata": {},
   "outputs": [
    {
     "name": "stdout",
     "output_type": "stream",
     "text": [
      "200\n",
      "233.465\n",
      "20\n"
     ]
    }
   ],
   "source": [
    "tup = (100,200,300)            # list and tuple both are same,except list is a mutable where as tuple is immutable.\n",
    "tup1 = (1000,'India',233.465)  # tuple also contains values of different kind i.e. int,float,string etc..\n",
    "tup2 = ([10,20,30],40,50,60)   # We can also define list inside tuple.\n",
    "\n",
    "# Concept of Indexing \n",
    "\n",
    "print(tup[1])\n",
    "print(tup1[2])\n",
    "print(tup2[0][1])"
   ]
  },
  {
   "cell_type": "code",
   "execution_count": 12,
   "id": "b6c2651f",
   "metadata": {},
   "outputs": [
    {
     "data": {
      "text/plain": [
       "1"
      ]
     },
     "execution_count": 12,
     "metadata": {},
     "output_type": "execute_result"
    }
   ],
   "source": [
    "tup.count(200)   # count function will calcualte occurance of 400 in a tup variable."
   ]
  },
  {
   "cell_type": "markdown",
   "id": "98175299",
   "metadata": {},
   "source": [
    "### Note :- It was found that, Based on Memory Management tuple generally prefered than list.\n"
   ]
  },
  {
   "cell_type": "markdown",
   "id": "ff350a4e",
   "metadata": {},
   "source": [
    "## Set:-"
   ]
  },
  {
   "cell_type": "code",
   "execution_count": 13,
   "id": "c59a21ce",
   "metadata": {},
   "outputs": [
    {
     "data": {
      "text/plain": [
       "set"
      ]
     },
     "execution_count": 13,
     "metadata": {},
     "output_type": "execute_result"
    }
   ],
   "source": [
    "data = {1,2,3,'Indian'}   # Set is always define inside curly braces i.e. {}.\n",
    "type(data)"
   ]
  },
  {
   "cell_type": "markdown",
   "id": "da568e15",
   "metadata": {},
   "source": [
    "## Dictonary:-"
   ]
  },
  {
   "cell_type": "code",
   "execution_count": 14,
   "id": "7b2d3ac8",
   "metadata": {},
   "outputs": [
    {
     "data": {
      "text/plain": [
       "dict"
      ]
     },
     "execution_count": 14,
     "metadata": {},
     "output_type": "execute_result"
    }
   ],
   "source": [
    "data = {'A':[10,20,30],'B':[40,50,60]}   # A and B Represents Key and the list assign to A and B are Values.\n",
    "type(data)"
   ]
  },
  {
   "cell_type": "code",
   "execution_count": 15,
   "id": "dfa7a1c3",
   "metadata": {},
   "outputs": [
    {
     "data": {
      "text/plain": [
       "20"
      ]
     },
     "execution_count": 15,
     "metadata": {},
     "output_type": "execute_result"
    }
   ],
   "source": [
    "# Concept of Indexing\n",
    "data['A'][1]"
   ]
  },
  {
   "cell_type": "markdown",
   "id": "9d9d3a1d",
   "metadata": {},
   "source": [
    "# Indexing and Slicing of String"
   ]
  },
  {
   "cell_type": "code",
   "execution_count": 16,
   "id": "a1bce1c3",
   "metadata": {},
   "outputs": [
    {
     "name": "stdout",
     "output_type": "stream",
     "text": [
      "W\n",
      "W\n"
     ]
    }
   ],
   "source": [
    "str1 = \"Hello World\"\n",
    "\n",
    "# Concept of Indexing to String\n",
    "# From above string i.e str1, only 'W' letter must be printed using Indexing Technique.\n",
    "print(str1[6])\n",
    "print(str1[-5])        # Alternative Approach"
   ]
  },
  {
   "cell_type": "code",
   "execution_count": 17,
   "id": "4e8ca646",
   "metadata": {},
   "outputs": [
    {
     "name": "stdout",
     "output_type": "stream",
     "text": [
      "ello\n",
      "ello\n"
     ]
    }
   ],
   "source": [
    "# From above string i.e str1, only 'ello' letters must be printed using Slicing Technique.\n",
    "print(str1[1:5])\n",
    "print(str1[-10:-6])     # Alternative Approach"
   ]
  },
  {
   "cell_type": "markdown",
   "id": "9bde4b5d",
   "metadata": {},
   "source": [
    "# Various Operations on String"
   ]
  },
  {
   "cell_type": "code",
   "execution_count": 18,
   "id": "4ed9222e",
   "metadata": {},
   "outputs": [],
   "source": [
    "str1 = 'ind'\n",
    "str2 = 'ia'"
   ]
  },
  {
   "cell_type": "code",
   "execution_count": 19,
   "id": "97a36634",
   "metadata": {},
   "outputs": [
    {
     "name": "stdout",
     "output_type": "stream",
     "text": [
      "india\n"
     ]
    }
   ],
   "source": [
    "# Concatenate String -  Also known as joining of Two strings.\n",
    "str3 = str1 + str2\n",
    "print(str3)"
   ]
  },
  {
   "cell_type": "code",
   "execution_count": 20,
   "id": "62e80ab5",
   "metadata": {},
   "outputs": [
    {
     "name": "stdout",
     "output_type": "stream",
     "text": [
      "INDIA\n"
     ]
    }
   ],
   "source": [
    "# Use of upper() function\n",
    "\n",
    "print(str3.upper())"
   ]
  },
  {
   "cell_type": "code",
   "execution_count": 21,
   "id": "ae66a3ac",
   "metadata": {},
   "outputs": [
    {
     "name": "stdout",
     "output_type": "stream",
     "text": [
      "hello world!\n"
     ]
    }
   ],
   "source": [
    "# Use of lower() function\n",
    "\n",
    "str1 = \"HELLO WORLD!\"\n",
    "\n",
    "print(str1.lower())"
   ]
  },
  {
   "cell_type": "code",
   "execution_count": 22,
   "id": "510f7743",
   "metadata": {},
   "outputs": [
    {
     "name": "stdout",
     "output_type": "stream",
     "text": [
      "Hello World!\n"
     ]
    }
   ],
   "source": [
    "# Use of title() function\n",
    "\n",
    "print(str1.title())    # Initial Letters of the String will be Capital."
   ]
  },
  {
   "cell_type": "code",
   "execution_count": 23,
   "id": "5a007f51",
   "metadata": {},
   "outputs": [
    {
     "name": "stdout",
     "output_type": "stream",
     "text": [
      "Hello World\n",
      "Hello World\n",
      "Hello World\n"
     ]
    }
   ],
   "source": [
    "# Use of rstrip(),lstrip() and strip() function to avoid blank spaces in the string.\n",
    "str1 = '   Hello World'\n",
    "str2 = 'Hello World      '\n",
    "str3 = '    Hello World          '\n",
    "\n",
    "print(str1.lstrip())\n",
    "print(str2.rstrip())\n",
    "print(str3.strip())"
   ]
  },
  {
   "cell_type": "code",
   "execution_count": 24,
   "id": "6c7b6d81",
   "metadata": {},
   "outputs": [
    {
     "name": "stdout",
     "output_type": "stream",
     "text": [
      "dlroWolleH\n"
     ]
    }
   ],
   "source": [
    "# Reverse the string\n",
    "\n",
    "str1 = 'HelloWorld'\n",
    "print(str1[::-1])"
   ]
  },
  {
   "cell_type": "markdown",
   "id": "da1dc4e6",
   "metadata": {},
   "source": [
    "# Interact with User Input"
   ]
  },
  {
   "cell_type": "code",
   "execution_count": 25,
   "id": "0afc0eb6",
   "metadata": {},
   "outputs": [
    {
     "name": "stdout",
     "output_type": "stream",
     "text": [
      "Enter the Value 100\n"
     ]
    }
   ],
   "source": [
    "num = input('Enter the Value ')  # Bydefault, Anything Entered Value by user with input fucntion considered as string."
   ]
  },
  {
   "cell_type": "code",
   "execution_count": 26,
   "id": "67df4c77",
   "metadata": {},
   "outputs": [
    {
     "data": {
      "text/plain": [
       "str"
      ]
     },
     "execution_count": 26,
     "metadata": {},
     "output_type": "execute_result"
    }
   ],
   "source": [
    "type(num)"
   ]
  },
  {
   "cell_type": "code",
   "execution_count": 27,
   "id": "9122c04c",
   "metadata": {},
   "outputs": [
    {
     "name": "stdout",
     "output_type": "stream",
     "text": [
      "Enter the Value  100\n",
      "<class 'int'>\n",
      "Enter the Value  1000\n",
      "<class 'float'>\n"
     ]
    }
   ],
   "source": [
    "# To deal with this issue,It is always better to mentioned int() or float(). if we wish to perform numerical operations.\n",
    "\n",
    "num1 = int(input('Enter the Value  '))\n",
    "print(type(num1))\n",
    "\n",
    "num2 = float(input('Enter the Value  '))\n",
    "print(type(num2))"
   ]
  },
  {
   "cell_type": "code",
   "execution_count": 28,
   "id": "2fb43ae0",
   "metadata": {},
   "outputs": [
    {
     "name": "stdout",
     "output_type": "stream",
     "text": [
      "Enter the First Value  10\n",
      "Enter the Second Value  2\n",
      "The Sum of Two Numbers 10.0 and 2.0 is  12.0\n"
     ]
    }
   ],
   "source": [
    "# WAP to Perform Addition of Two Numbers\n",
    "\n",
    "num1 = float(input('Enter the First Value  '))\n",
    "num2 = float(input('Enter the Second Value  '))\n",
    "\n",
    "num3 = num1+num2\n",
    "print(f'The Sum of Two Numbers {num1} and {num2} is ',num3)    "
   ]
  },
  {
   "cell_type": "code",
   "execution_count": 29,
   "id": "ff11e4bc",
   "metadata": {},
   "outputs": [
    {
     "name": "stdout",
     "output_type": "stream",
     "text": [
      "Enter the First Value  200\n",
      "Enter the Second Value  23\n",
      "The Sum of Two Numbers 200.0 and 23.0 is  4600.0\n"
     ]
    }
   ],
   "source": [
    "# WAP to Perform Multiplication of Two Numbers\n",
    "\n",
    "num1 = float(input('Enter the First Value  '))\n",
    "num2 = float(input('Enter the Second Value  '))\n",
    "\n",
    "num3 = num1*num2\n",
    "print(f'The Sum of Two Numbers {num1} and {num2} is ',num3) "
   ]
  },
  {
   "cell_type": "code",
   "execution_count": 30,
   "id": "be6bae6a",
   "metadata": {},
   "outputs": [
    {
     "name": "stdout",
     "output_type": "stream",
     "text": [
      "Enter the First Value  20\n",
      "Enter the Second Value  4\n",
      "The Sum of Two Numbers 20.0 and 4.0 is  5.0\n"
     ]
    }
   ],
   "source": [
    "# WAP to Perform Division of Two Numbers\n",
    "\n",
    "num1 = float(input('Enter the First Value  '))\n",
    "num2 = float(input('Enter the Second Value  '))\n",
    "\n",
    "num3 = num1/num2\n",
    "print(f'The Sum of Two Numbers {num1} and {num2} is ',num3) "
   ]
  },
  {
   "cell_type": "markdown",
   "id": "f6c775bd",
   "metadata": {},
   "source": [
    "## Different Keywords in Python"
   ]
  },
  {
   "cell_type": "code",
   "execution_count": 31,
   "id": "fb172a41",
   "metadata": {},
   "outputs": [
    {
     "name": "stdout",
     "output_type": "stream",
     "text": [
      "['False', 'None', 'True', '__peg_parser__', 'and', 'as', 'assert', 'async', 'await', 'break', 'class', 'continue', 'def', 'del', 'elif', 'else', 'except', 'finally', 'for', 'from', 'global', 'if', 'import', 'in', 'is', 'lambda', 'nonlocal', 'not', 'or', 'pass', 'raise', 'return', 'try', 'while', 'with', 'yield']\n"
     ]
    }
   ],
   "source": [
    "import keyword\n",
    "print(keyword.kwlist)"
   ]
  },
  {
   "cell_type": "markdown",
   "id": "bebc2941",
   "metadata": {},
   "source": [
    "# Assignment Task"
   ]
  },
  {
   "cell_type": "markdown",
   "id": "8922e107",
   "metadata": {},
   "source": [
    " ### 1. Create a String and Print its length using len()\n",
    " ### 2. Print the string 'Zing' from the range of character specified in the string name 'Bazingaa'\n",
    " ### 3. WAP to perform simple calculator operation \n",
    " "
   ]
  },
  {
   "cell_type": "code",
   "execution_count": null,
   "id": "543cd3f6",
   "metadata": {},
   "outputs": [],
   "source": []
  }
 ],
 "metadata": {
  "kernelspec": {
   "display_name": "Python 3 (ipykernel)",
   "language": "python",
   "name": "python3"
  },
  "language_info": {
   "codemirror_mode": {
    "name": "ipython",
    "version": 3
   },
   "file_extension": ".py",
   "mimetype": "text/x-python",
   "name": "python",
   "nbconvert_exporter": "python",
   "pygments_lexer": "ipython3",
   "version": "3.9.13"
  }
 },
 "nbformat": 4,
 "nbformat_minor": 5
}
