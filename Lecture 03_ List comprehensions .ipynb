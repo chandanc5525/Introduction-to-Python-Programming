{
 "cells": [
  {
   "cell_type": "markdown",
   "id": "d84a999a",
   "metadata": {},
   "source": [
    "## LIST COMPREHENSIONS"
   ]
  },
  {
   "cell_type": "markdown",
   "id": "68fe472d",
   "metadata": {},
   "source": [
    "#### List comprehensions in Python are concise, syntactic constructs. They can be utilized to generate lists from other lists by applying functions to each element in the list. The following section explains and demonstrates the use of these expressions."
   ]
  },
  {
   "cell_type": "code",
   "execution_count": 1,
   "id": "9159d9a6",
   "metadata": {},
   "outputs": [
    {
     "name": "stdout",
     "output_type": "stream",
     "text": [
      "[1, 4, 9, 16]\n"
     ]
    }
   ],
   "source": [
    "# To create a list of squared integers:\n",
    "squares = [x * x for x in (1, 2, 3, 4)]   \n",
    "print(squares)"
   ]
  },
  {
   "cell_type": "code",
   "execution_count": 3,
   "id": "8bf2b9d9",
   "metadata": {},
   "outputs": [
    {
     "name": "stdout",
     "output_type": "stream",
     "text": [
      "[1, 4, 9, 16]\n"
     ]
    }
   ],
   "source": [
    "# To create a list of squared integers using append technique.\n",
    "squares = []\n",
    "for x in (1, 2, 3, 4):\n",
    "    squares.append(x * x)\n",
    "print(squares)"
   ]
  },
  {
   "cell_type": "code",
   "execution_count": 11,
   "id": "283c4120",
   "metadata": {},
   "outputs": [
    {
     "name": "stdout",
     "output_type": "stream",
     "text": [
      "[0, 2, 4, 6, 8]\n",
      "[0, 2, 4, 6, 8]\n"
     ]
    }
   ],
   "source": [
    "# WAP to extract only even numbers from a sequence of integers\n",
    "num = [x for x in range(10) if x % 2 == 0]\n",
    "print(num)\n",
    "# The Above Code work same as follows.\n",
    "\n",
    "even_numbers = []\n",
    "for x in range(10):\n",
    "    if x % 2 == 0:\n",
    "        even_numbers.append(x)\n",
    "print(even_numbers)"
   ]
  },
  {
   "cell_type": "markdown",
   "id": "e44f90af",
   "metadata": {},
   "source": [
    "## Concept of Groupby"
   ]
  }
 ],
 "metadata": {
  "kernelspec": {
   "display_name": "Python 3 (ipykernel)",
   "language": "python",
   "name": "python3"
  },
  "language_info": {
   "codemirror_mode": {
    "name": "ipython",
    "version": 3
   },
   "file_extension": ".py",
   "mimetype": "text/x-python",
   "name": "python",
   "nbconvert_exporter": "python",
   "pygments_lexer": "ipython3",
   "version": "3.9.13"
  }
 },
 "nbformat": 4,
 "nbformat_minor": 5
}
