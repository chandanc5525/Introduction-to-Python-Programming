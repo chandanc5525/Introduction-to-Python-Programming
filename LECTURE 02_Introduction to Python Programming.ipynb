{
 "cells": [
  {
   "cell_type": "markdown",
   "id": "991e4075",
   "metadata": {},
   "source": [
    "# Lecture 02: Simple Mathmatical Operators"
   ]
  },
  {
   "cell_type": "markdown",
   "id": "58e88549",
   "metadata": {},
   "source": [
    "## Basic Mathmatical Operations"
   ]
  },
  {
   "cell_type": "code",
   "execution_count": 1,
   "id": "9c608252",
   "metadata": {},
   "outputs": [
    {
     "name": "stdout",
     "output_type": "stream",
     "text": [
      "Addition of 100 and 200 is  100 200 300\n",
      "Substraction of 200 and 100 is  100 200 100\n",
      "Multiplication of 100 and 200 is  100 200 20000\n",
      "Division of 200 and 100 is num3 100 200 2.0\n",
      "Module of 100 and 200 is  100 200 2\n"
     ]
    }
   ],
   "source": [
    "num1,num2 = 100,200\n",
    "num3 = num1+num2\n",
    "print(f'Addition of {num1} and {num2} is ',num1,num2,num3)\n",
    "num3 = num2-num1\n",
    "print(f'Substraction of {num2} and {num1} is ',num1,num2,num3)\n",
    "num3 = num1*num2\n",
    "print(f'Multiplication of {num1} and {num2} is ',num1,num2,num3)\n",
    "num3 = num2/num1\n",
    "print(f'Division of {num2} and {num1} is num3',num1,num2,num3)\n",
    "num3 = num2//num1\n",
    "print(f'Module of {num1} and {num2} is ',num1,num2,num3)"
   ]
  },
  {
   "cell_type": "markdown",
   "id": "a89395f3",
   "metadata": {},
   "source": [
    "## Import Math Function to Perform Mathmatical Operations"
   ]
  },
  {
   "cell_type": "code",
   "execution_count": 2,
   "id": "2cf670a0",
   "metadata": {},
   "outputs": [
    {
     "name": "stdout",
     "output_type": "stream",
     "text": [
      "81.0\n",
      "5.477225575051661\n"
     ]
    }
   ],
   "source": [
    "import math\n",
    "print(math.pow(3,4))\n",
    "print(math.sqrt(30))"
   ]
  },
  {
   "cell_type": "markdown",
   "id": "0b3d065c",
   "metadata": {},
   "source": [
    "## Simple Operator Precedence Examples in python"
   ]
  },
  {
   "cell_type": "markdown",
   "id": "9eaa0228",
   "metadata": {},
   "source": [
    "### Python follows PEMDAS rule. PEMDAS stands for Parentheses, Exponents, Multiplication and Division, and Addition and Subtraction."
   ]
  },
  {
   "cell_type": "code",
   "execution_count": 3,
   "id": "d7beb297",
   "metadata": {},
   "outputs": [],
   "source": [
    "a, b, c, d = 2, 3, 5, 7"
   ]
  },
  {
   "cell_type": "code",
   "execution_count": 4,
   "id": "743ddbcc",
   "metadata": {},
   "outputs": [
    {
     "data": {
      "text/plain": [
       "256"
      ]
     },
     "execution_count": 4,
     "metadata": {},
     "output_type": "execute_result"
    }
   ],
   "source": [
    "a ** (b + c) "
   ]
  },
  {
   "cell_type": "code",
   "execution_count": 5,
   "id": "ada2e9ea",
   "metadata": {},
   "outputs": [
    {
     "data": {
      "text/plain": [
       "486"
      ]
     },
     "execution_count": 5,
     "metadata": {},
     "output_type": "execute_result"
    }
   ],
   "source": [
    "a * b ** c"
   ]
  },
  {
   "cell_type": "code",
   "execution_count": 6,
   "id": "a0afb8f1",
   "metadata": {},
   "outputs": [
    {
     "data": {
      "text/plain": [
       "4.142857142857142"
      ]
     },
     "execution_count": 6,
     "metadata": {},
     "output_type": "execute_result"
    }
   ],
   "source": [
    "a + b * c / d"
   ]
  },
  {
   "cell_type": "markdown",
   "id": "98bc24f7",
   "metadata": {},
   "source": [
    "### WAP To Find Number is Greater than 10 or Not"
   ]
  },
  {
   "cell_type": "code",
   "execution_count": 7,
   "id": "4821afb1",
   "metadata": {},
   "outputs": [
    {
     "name": "stdout",
     "output_type": "stream",
     "text": [
      "Enter the Number 120\n",
      "The Number is Greater than 10\n"
     ]
    }
   ],
   "source": [
    "num = int(input('Enter the Number '))\n",
    "\n",
    "if num < 10:\n",
    "    print('The Number is Less than 10.')\n",
    "else :\n",
    "    print('The Number is Greater than 10')"
   ]
  },
  {
   "cell_type": "markdown",
   "id": "0d37a8aa",
   "metadata": {},
   "source": [
    "### WAP to Check the number is 10 or Not."
   ]
  },
  {
   "cell_type": "code",
   "execution_count": 8,
   "id": "ce38471a",
   "metadata": {},
   "outputs": [
    {
     "name": "stdout",
     "output_type": "stream",
     "text": [
      "Enter the Number 345\n",
      "The Number is Greater than 10\n"
     ]
    }
   ],
   "source": [
    "num = int(input('Enter the Number '))\n",
    "if num < 10:\n",
    "    print('The Number is Less than 10.')\n",
    "elif num > 10:\n",
    "    print('The Number is Greater than 10')\n",
    "else:\n",
    "    print('The Number is 10')"
   ]
  },
  {
   "cell_type": "markdown",
   "id": "a535dac4",
   "metadata": {},
   "source": [
    "# For loop and While loop"
   ]
  },
  {
   "cell_type": "code",
   "execution_count": 9,
   "id": "b2bb64b4",
   "metadata": {},
   "outputs": [
    {
     "name": "stdout",
     "output_type": "stream",
     "text": [
      "0\n",
      "1\n",
      "2\n",
      "3\n",
      "4\n",
      "5\n",
      "6\n",
      "7\n",
      "8\n",
      "9\n"
     ]
    }
   ],
   "source": [
    "# For printing 10 numbers we can use range function.\n",
    "for i in range(0,10):\n",
    "    print(i)"
   ]
  },
  {
   "cell_type": "code",
   "execution_count": 10,
   "id": "123b6878",
   "metadata": {},
   "outputs": [
    {
     "name": "stdout",
     "output_type": "stream",
     "text": [
      "0\n",
      "3\n",
      "6\n",
      "9\n"
     ]
    }
   ],
   "source": [
    "for i in range(0,10,3):   # Here, It will print all the odd numbers spaced by 3.\n",
    "    print(i)"
   ]
  },
  {
   "cell_type": "code",
   "execution_count": 11,
   "id": "ea206297",
   "metadata": {},
   "outputs": [
    {
     "name": "stdout",
     "output_type": "stream",
     "text": [
      "0\n",
      "1\n",
      "2\n",
      "3\n",
      "4\n",
      "5\n",
      "6\n",
      "7\n",
      "8\n",
      "9\n"
     ]
    }
   ],
   "source": [
    "number = 0\n",
    "while (number<10):\n",
    "    print(number)\n",
    "    number=number+1"
   ]
  },
  {
   "cell_type": "markdown",
   "id": "dee28f2d",
   "metadata": {},
   "source": [
    "- When a break statement executes inside a loop, control flow \"breaks\" out of the loop immediately"
   ]
  },
  {
   "cell_type": "code",
   "execution_count": 12,
   "id": "6e5acab6",
   "metadata": {},
   "outputs": [
    {
     "name": "stdout",
     "output_type": "stream",
     "text": [
      "0\n",
      "1\n",
      "2\n",
      "3\n",
      "4\n",
      "5\n",
      "Break the Loop\n"
     ]
    }
   ],
   "source": [
    "num = 0\n",
    "while num <10:\n",
    "    print(num)\n",
    "    if num ==5:\n",
    "        print('Break the Loop')\n",
    "        break\n",
    "    num = num+1\n",
    "        "
   ]
  },
  {
   "cell_type": "markdown",
   "id": "698aadd8",
   "metadata": {},
   "source": [
    "- A continue statement will skip to the next iteration of the loop bypassing the rest of the current block but continuing the loop."
   ]
  },
  {
   "cell_type": "code",
   "execution_count": 13,
   "id": "177577ee",
   "metadata": {},
   "outputs": [
    {
     "name": "stdout",
     "output_type": "stream",
     "text": [
      "0\n",
      "1\n",
      "3\n",
      "5\n"
     ]
    }
   ],
   "source": [
    "for i in (0, 1, 2, 3, 4, 5):\n",
    "    if i == 2 or i == 4:\n",
    "        continue\n",
    "    print(i)"
   ]
  },
  {
   "cell_type": "markdown",
   "id": "5de8763c",
   "metadata": {},
   "source": [
    "# Important Operations on Python Datatypes"
   ]
  },
  {
   "cell_type": "code",
   "execution_count": 14,
   "id": "5015dc13",
   "metadata": {},
   "outputs": [],
   "source": [
    "lst = [100,300,500,200,400,600]"
   ]
  },
  {
   "cell_type": "markdown",
   "id": "1780caf1",
   "metadata": {},
   "source": [
    "- Replication – multiplying an existing list by an integer will produce a larger list consisting of that many copies of the original. This can be useful for example for list initialization"
   ]
  },
  {
   "cell_type": "code",
   "execution_count": 15,
   "id": "5ce6a3cd",
   "metadata": {},
   "outputs": [
    {
     "name": "stdout",
     "output_type": "stream",
     "text": [
      "[100, 300, 500, 200, 400, 600, 100, 300, 500, 200, 400, 600, 100, 300, 500, 200, 400, 600]\n"
     ]
    }
   ],
   "source": [
    "num = lst*3\n",
    "print(num)"
   ]
  },
  {
   "cell_type": "markdown",
   "id": "5facb206",
   "metadata": {},
   "source": [
    "- Element deletion – it is possible to delete multiple elements in the list using the del keyword."
   ]
  },
  {
   "cell_type": "code",
   "execution_count": 16,
   "id": "c792e46a",
   "metadata": {},
   "outputs": [
    {
     "data": {
      "text/plain": [
       "[100, 300, 500, 200, 400]"
      ]
     },
     "execution_count": 16,
     "metadata": {},
     "output_type": "execute_result"
    }
   ],
   "source": [
    "del lst[-1]\n",
    "lst"
   ]
  },
  {
   "cell_type": "markdown",
   "id": "b55c2f1c",
   "metadata": {},
   "source": [
    "- reversed function which returns an iterator to the reversed list,Or You can also reverse a list (actually obtaining a copy, the original list is unaffected) by using the slicing syntax, setting the third argument (the step) as -1"
   ]
  },
  {
   "cell_type": "code",
   "execution_count": 17,
   "id": "79a3efc0",
   "metadata": {},
   "outputs": [
    {
     "data": {
      "text/plain": [
       "[1, 2, 3, 4, 5, 6, 7, 8, 9, 10]"
      ]
     },
     "execution_count": 17,
     "metadata": {},
     "output_type": "execute_result"
    }
   ],
   "source": [
    "num  = [10,9,8,7,6,5,4,3,2,1]\n",
    "num[::-1]"
   ]
  },
  {
   "cell_type": "markdown",
   "id": "c21f707a",
   "metadata": {},
   "source": [
    "- Remove duplicate values in list"
   ]
  },
  {
   "cell_type": "code",
   "execution_count": 18,
   "id": "b4bbdde4",
   "metadata": {},
   "outputs": [
    {
     "data": {
      "text/plain": [
       "['edik', 'duke', 'tofp', 'aixk']"
      ]
     },
     "execution_count": 18,
     "metadata": {},
     "output_type": "execute_result"
    }
   ],
   "source": [
    "names = [\"aixk\", \"duke\", \"edik\", \"tofp\", \"duke\"]\n",
    "list(set(names))"
   ]
  }
 ],
 "metadata": {
  "kernelspec": {
   "display_name": "Python 3 (ipykernel)",
   "language": "python",
   "name": "python3"
  },
  "language_info": {
   "codemirror_mode": {
    "name": "ipython",
    "version": 3
   },
   "file_extension": ".py",
   "mimetype": "text/x-python",
   "name": "python",
   "nbconvert_exporter": "python",
   "pygments_lexer": "ipython3",
   "version": "3.9.13"
  }
 },
 "nbformat": 4,
 "nbformat_minor": 5
}
